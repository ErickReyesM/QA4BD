{
 "cells": [
  {
   "cell_type": "code",
   "execution_count": 62,
   "metadata": {},
   "outputs": [],
   "source": [
    "import re\n",
    "log = open('BH.Web.Automation-FailedTests.txt','r')"
   ]
  },
  {
   "cell_type": "code",
   "execution_count": 63,
   "metadata": {},
   "outputs": [],
   "source": [
    "log_list = list([line.strip().lower() for line in log])"
   ]
  },
  {
   "cell_type": "code",
   "execution_count": 64,
   "metadata": {},
   "outputs": [
    {
     "data": {
      "text/plain": [
       "['2018-10-24 14:08:05,784 [info] - [start] ==== test case: 33987 - driver: chrome ====',\n",
       " '2018-10-24 14:08:11,860 [error] - error finding element: by.cssselector: #sharethis > a',\n",
       " 'openqa.selenium.nosuchelementexception: no such element: unable to locate element: {\"method\":\"css selector\",\"selector\":\"#sharethis > a\"}',\n",
       " '(session info: chrome=69.0.3497.100)',\n",
       " '(driver info: chromedriver=2.40.565498 (ea082db3280dd6843ebfb08a625e3eb905c4f5ab),platform=windows nt 10.0.17134 x86_64)',\n",
       " 'at openqa.selenium.remote.remotewebdriver.unpackandthrowonerror(response errorresponse)',\n",
       " 'at openqa.selenium.remote.remotewebdriver.execute(string drivercommandtoexecute, dictionary`2 parameters)',\n",
       " 'at openqa.selenium.remote.remotewebdriver.findelement(string mechanism, string value)',\n",
       " 'at openqa.selenium.remote.remotewebdriver.findelementbycssselector(string cssselector)',\n",
       " 'at openqa.selenium.by.<>c__displayclass23_0.<cssselector>b__0(isearchcontext context)',\n",
       " 'at openqa.selenium.by.findelement(isearchcontext context)',\n",
       " 'at openqa.selenium.remote.remotewebdriver.findelement(by by)',\n",
       " 'at bh.atf.sitecore.web.common.webextensions.genericvalidations.verifyelementdisplayed(iwebdriver _driver, by locator, boolean excludeexceptionlog) in c:\\\\users\\\\j_sti\\\\source\\\\repos\\\\temp_intersys_bh\\\\bh.atf.sitecore.web.common\\\\webextensions\\\\genericvalidations.cs:line 35',\n",
       " '2018-10-24 14:08:12,246 [error] -   test case: 33987 - driver: chrome',\n",
       " 'error displaying secondary nav elements.',\n",
       " 'expected: true',\n",
       " 'but was:  false',\n",
       " '',\n",
       " '2018-10-24 14:08:12,246 [info] - [end]   =============== [failed] ===============',\n",
       " '2018-10-24 14:08:15,613 [info] - [start] ==== test case: 33993 - driver: chrome ====']"
      ]
     },
     "execution_count": 64,
     "metadata": {},
     "output_type": "execute_result"
    }
   ],
   "source": [
    "log_list[:20]"
   ]
  },
  {
   "cell_type": "code",
   "execution_count": 65,
   "metadata": {},
   "outputs": [],
   "source": [
    "test_case_id = re.search('(\\d+) -', log_list[0]).group(1)"
   ]
  },
  {
   "cell_type": "code",
   "execution_count": 66,
   "metadata": {},
   "outputs": [
    {
     "data": {
      "text/plain": [
       "'33987'"
      ]
     },
     "execution_count": 66,
     "metadata": {},
     "output_type": "execute_result"
    }
   ],
   "source": [
    "test_case_id"
   ]
  },
  {
   "cell_type": "code",
   "execution_count": 67,
   "metadata": {},
   "outputs": [
    {
     "data": {
      "text/plain": [
       "49"
      ]
     },
     "execution_count": 67,
     "metadata": {},
     "output_type": "execute_result"
    }
   ],
   "source": [
    "cases = [line for line in log_list if '[info] - [start]' in line]\n",
    "len(cases)"
   ]
  },
  {
   "cell_type": "code",
   "execution_count": 68,
   "metadata": {},
   "outputs": [
    {
     "data": {
      "text/plain": [
       "49"
      ]
     },
     "execution_count": 68,
     "metadata": {},
     "output_type": "execute_result"
    }
   ],
   "source": [
    "cases_failed = [line for line in log_list if '[info] - [end]' and  '[failed]' in line]\n",
    "len(cases_failed)"
   ]
  },
  {
   "cell_type": "code",
   "execution_count": 69,
   "metadata": {},
   "outputs": [
    {
     "name": "stdout",
     "output_type": "stream",
     "text": [
      "TCs with no id: 7\n"
     ]
    }
   ],
   "source": [
    "ids = []\n",
    "count = 0\n",
    "for i in range(len(cases)):\n",
    "    try:\n",
    "        m = re.search('(\\d+) -', cases[i])\n",
    "        ids.append(m.group(1))\n",
    "    except AttributeError:\n",
    "        count += 1\n",
    "print(\"TCs with no id: \" + str(count))"
   ]
  },
  {
   "cell_type": "code",
   "execution_count": 70,
   "metadata": {},
   "outputs": [
    {
     "data": {
      "text/plain": [
       "42"
      ]
     },
     "execution_count": 70,
     "metadata": {},
     "output_type": "execute_result"
    }
   ],
   "source": [
    "len(ids)"
   ]
  },
  {
   "cell_type": "code",
   "execution_count": 76,
   "metadata": {},
   "outputs": [],
   "source": [
    "url_failed_test = [line for line in log_list if '[ERROR] - Error waiting for Url'.lower() in line]"
   ]
  },
  {
   "cell_type": "code",
   "execution_count": 78,
   "metadata": {},
   "outputs": [
    {
     "data": {
      "text/plain": [
       "21"
      ]
     },
     "execution_count": 78,
     "metadata": {},
     "output_type": "execute_result"
    }
   ],
   "source": [
    "len(url_failed_test)"
   ]
  },
  {
   "cell_type": "code",
   "execution_count": 79,
   "metadata": {},
   "outputs": [],
   "source": [
    "null_reference = [line for line in log_list if '[ERROR] - Object reference not set to an instance of an object.'.lower() in line]"
   ]
  },
  {
   "cell_type": "code",
   "execution_count": 80,
   "metadata": {},
   "outputs": [
    {
     "data": {
      "text/plain": [
       "9"
      ]
     },
     "execution_count": 80,
     "metadata": {},
     "output_type": "execute_result"
    }
   ],
   "source": [
    "len(null_reference)"
   ]
  },
  {
   "cell_type": "code",
   "execution_count": 81,
   "metadata": {},
   "outputs": [],
   "source": [
    "no_such_element = [line for line in log_list if '[ERROR] - no such element'.lower() in line]"
   ]
  },
  {
   "cell_type": "code",
   "execution_count": 83,
   "metadata": {},
   "outputs": [
    {
     "data": {
      "text/plain": [
       "10"
      ]
     },
     "execution_count": 83,
     "metadata": {},
     "output_type": "execute_result"
    }
   ],
   "source": [
    "len(no_such_element)"
   ]
  },
  {
   "cell_type": "code",
   "execution_count": null,
   "metadata": {
    "collapsed": true
   },
   "outputs": [],
   "source": []
  }
 ],
 "metadata": {
  "kernelspec": {
   "display_name": "Python 3",
   "language": "python",
   "name": "python3"
  },
  "language_info": {
   "codemirror_mode": {
    "name": "ipython",
    "version": 3
   },
   "file_extension": ".py",
   "mimetype": "text/x-python",
   "name": "python",
   "nbconvert_exporter": "python",
   "pygments_lexer": "ipython3",
   "version": "3.6.5"
  }
 },
 "nbformat": 4,
 "nbformat_minor": 2
}
