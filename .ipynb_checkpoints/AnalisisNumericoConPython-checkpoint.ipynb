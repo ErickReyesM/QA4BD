{
 "cells": [
  {
   "cell_type": "markdown",
   "metadata": {},
   "source": [
    "### Movimiento Vertical\n",
    "\n",
    "$y(t) = V_{0} - \\frac{1}{2}gt^2$\n",
    "\n",
    "* veriﬁca la posición de la pelota a los 0.6 segundos de ser lanzada, si la velocidad inicial con que fue lanzada es de 6 m/s:\n"
   ]
  },
  {
   "cell_type": "code",
   "execution_count": 1,
   "metadata": {},
   "outputs": [
    {
     "name": "stdout",
     "output_type": "stream",
     "text": [
      "1.2342\n"
     ]
    }
   ],
   "source": [
    "v0 = 5 # initial velocity \n",
    "g = 9.81 # acceleration of gravity \n",
    "t = 0.6 #time \n",
    "y = v0*t - 0.5*g*t**2 # vertical position \n",
    "print(y) "
   ]
  },
  {
   "cell_type": "markdown",
   "metadata": {},
   "source": [
    "Considere el movimiento vertical dado por la ecuación. \n",
    "¿Cuánto tiempo le toma a una pelota alcanzar la altura $y_c$?\n",
    "* Comprueba que las soluciones están dadas por las raíces de la ecuación $\\frac{1}{2}gt^2 − V_0t + y_c = 0$\n",
    "* Usando la fórmula general para encontrar las raíces de una ecuación de segundo grado, comprueba que las soluciones son: \n",
    "$t1 =(V_0 − \\sqrt{V_0^2 − 2gy_c})/g$  ,   $t2 =(V_0 + \\sqrt{V_0^2 − 2gy_c})/g $ \n",
    "* Utilizando el siguiente bloque de código, averigua cuáles son los dos instantes de tiempo en que una pelota está a una altura de 0.3 m, si la velocidad inicial de la pelota es de 6 m/s:\n"
   ]
  },
  {
   "cell_type": "code",
   "execution_count": 2,
   "metadata": {},
   "outputs": [
    {
     "name": "stdout",
     "output_type": "stream",
     "text": [
      "En t=0.0417 s y t=0.9777 s, la altura es 0.2000 m.\n"
     ]
    }
   ],
   "source": [
    "v0 = 5 \n",
    "g = 9.81 \n",
    "yc = 0.2 \n",
    "import math \n",
    "t1 = (v0 - math.sqrt(v0**2 - 2*g*yc))/g \n",
    "t2 = (v0 + math.sqrt(v0**2 - 2*g*yc))/g \n",
    "print('En t={0:.4f} s y t={1:.4f} s, la altura es {2:.4f} m.'.format(t1, t2, yc)) "
   ]
  },
  {
   "cell_type": "markdown",
   "metadata": {},
   "source": [
    "Con ayuda del siguiente código, calcula las dos raíces complejas de la ecuación cuadrática $f(x) = ax^2 + bx + c$ \n",
    "cuando a = 1, b = 2 y c = 100:"
   ]
  },
  {
   "cell_type": "code",
   "execution_count": 6,
   "metadata": {},
   "outputs": [
    {
     "name": "stdout",
     "output_type": "stream",
     "text": [
      "(-1+9.9498743710662j)\n",
      "(-1-9.9498743710662j)\n"
     ]
    }
   ],
   "source": [
    "a = 1; b = 2; c = 100 # polynomial coefficients \n",
    "from numpy.lib.scimath import sqrt \n",
    "r1 = (-b + sqrt(b**2 - 4*a*c))/(2*a) \n",
    "r2 = (-b - sqrt(b**2 - 4*a*c))/(2*a)\n",
    "\n",
    "print (r1)\n",
    "print (r2)"
   ]
  },
  {
   "cell_type": "code",
   "execution_count": null,
   "metadata": {},
   "outputs": [],
   "source": []
  }
 ],
 "metadata": {
  "kernelspec": {
   "display_name": "Python 3",
   "language": "python",
   "name": "python3"
  },
  "language_info": {
   "codemirror_mode": {
    "name": "ipython",
    "version": 3
   },
   "file_extension": ".py",
   "mimetype": "text/x-python",
   "name": "python",
   "nbconvert_exporter": "python",
   "pygments_lexer": "ipython3",
   "version": "3.6.5"
  }
 },
 "nbformat": 4,
 "nbformat_minor": 2
}
