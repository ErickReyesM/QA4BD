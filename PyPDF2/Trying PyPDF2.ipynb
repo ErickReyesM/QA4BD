{
 "cells": [
  {
   "cell_type": "code",
   "execution_count": 9,
   "metadata": {},
   "outputs": [],
   "source": [
    "import PyPDF2"
   ]
  },
  {
   "cell_type": "code",
   "execution_count": 10,
   "metadata": {},
   "outputs": [],
   "source": [
    "bio = open('Bio_Erick-Reyes.pdf','rb')\n",
    "read_bio = PyPDF2.PdfFileReader(bio) "
   ]
  },
  {
   "cell_type": "code",
   "execution_count": 11,
   "metadata": {},
   "outputs": [
    {
     "name": "stdout",
     "output_type": "stream",
     "text": [
      "2\n"
     ]
    }
   ],
   "source": [
    "print(read_bio.numPages) "
   ]
  },
  {
   "cell_type": "code",
   "execution_count": 12,
   "metadata": {},
   "outputs": [
    {
     "name": "stdout",
     "output_type": "stream",
     "text": [
      " \n",
      " \n",
      " \n",
      " \n",
      " \n",
      " \n",
      "Erick Misael Reyes Medina\n",
      " \n",
      " \n",
      "Consultant\n",
      " \n",
      " \n",
      " \n",
      " \n",
      "Profile\n",
      " \n",
      "Experienced Quality Assurance Test Engineer with working\n",
      " \n",
      "experience\n",
      " \n",
      "in the information \n",
      "technology and services industry. Skilled in Test Automation, Scripting\n",
      " \n",
      "and Scrum\n",
      " \n",
      "  \n",
      " \n",
      " \n",
      " \n",
      "Skills\n",
      " \n",
      "Automation Testing\n",
      " \n",
      "Quality Assurance \n",
      " \n",
      "Leadership\n",
      " \n",
      " \n",
      "D\n",
      "evelopment \n",
      "of automation scripts \n",
      "to automate web UI applications \n",
      "using Selenium web \n",
      "driver with java, \n",
      "implementing POM pattern\n",
      " \n",
      "Creation of comprehensive and \n",
      "structured test plans and test cases, \n",
      "prioritizing and planning execution of \n",
      "quality testing activities \n",
      " \n",
      "Inspiring coworkers and friends to\n",
      " \n",
      "develop their skills inside and\n",
      " \n",
      "outside of \n",
      "work place\n",
      " \n",
      " \n",
      " \n",
      "Technical\n",
      " \n",
      "Selenium Web Driver\n",
      " \n",
      "RTC\n",
      " \n",
      "Shell Scripting\n",
      " \n",
      " \n",
      "Java\n",
      " \n",
      "Jira\n",
      " \n",
      "Linux\n",
      " \n",
      " \n",
      "Python\n",
      " \n",
      "Android Debug Bridge\n",
      " \n",
      "Electronic Debug\n",
      " \n",
      " \n",
      "Behave Driven development\n",
      " \n",
      "S\n",
      "o\n",
      "a\n",
      "pUI\n",
      " \n",
      "Lab \n",
      "Instrumentation\n",
      " \n",
      " \n",
      " \n",
      "Education\n",
      " \n",
      "\n",
      " \n",
      "\n",
      " \n",
      "IT Development\n",
      ", \n",
      "Universidad del \n",
      "Valle de Mexico\n",
      " \n",
      " \n",
      " \n",
      " \n",
      " \n",
      "Experience\n",
      " \n",
      "Intersys Consulting\n",
      " \n",
      " \n",
      " \n",
      " \n",
      " \n",
      " \n",
      " \n",
      "      \n",
      " \n",
      "11/17\n",
      " \n",
      "\n",
      " \n",
      "Current\n",
      " \n",
      "SDET\n",
      ":\n",
      " \n",
      " \n",
      " \n",
      " \n",
      " \n",
      " \n",
      " \n",
      " \n",
      " \n",
      "Project\n",
      ":\n",
      " \n",
      " \n",
      "Lender Simulator\n",
      " \n",
      "Technical Environment\n",
      ": \n",
      " \n",
      "Develop automated test cases using Python Behave and execute manual test cases consuming web \n",
      "services with \n",
      "PostMan and SoapUI tool.\n",
      " \n",
      "\n",
      " \n",
      "Develop Scripts to automate back end flows using behave\n",
      " \n",
      "\n",
      " \n",
      "Write and execution of manual test cases\n",
      " \n",
      "\n",
      " \n",
      "Participation on the test planning meetings \n",
      " \n",
      "\n",
      " \n",
      "Web Services testing\n",
      " \n",
      " \n",
      "HCL \n",
      "Technologies\n",
      " \n",
      " \n",
      " \n",
      " \n",
      " \n",
      " \n",
      " \n",
      "      \n",
      " \n",
      "11/16\n",
      " \n",
      "\n",
      " \n",
      "11/17\n",
      " \n",
      "Software Engineer\n",
      ":\n",
      " \n",
      " \n",
      " \n",
      " \n",
      " \n",
      " \n",
      " \n",
      " \n",
      " \n",
      "Project\n",
      ":\n",
      " \n",
      " \n",
      "USAA\n",
      " \n",
      "Technical Environment\n",
      ": \n",
      "Web application (Desktop and mobile browser), Native mobile application\n",
      ".\n",
      " \n",
      "Develop automated test cases\n",
      " \n",
      "using Selenium Web Driver\n",
      " \n",
      "to ensure that the web application was \n",
      "built in compliance with the UI\n",
      " \n",
      "technical and functional requirements using agile delivering \n",
      "methodologies. \n",
      " \n",
      "\n",
      " \n",
      "Develop Scripts to automate UI using Selenium Web Driver\n",
      " \n",
      "\n"
     ]
    }
   ],
   "source": [
    "pageObj = read_bio.getPage(0) \n",
    "  \n",
    "# extracting text from page \n",
    "print(pageObj.extractText()) "
   ]
  },
  {
   "cell_type": "code",
   "execution_count": 13,
   "metadata": {},
   "outputs": [
    {
     "data": {
      "text/plain": [
       "{'/ModDate': \"D:20180521172451+00'00'\",\n",
       " '/CreationDate': \"D:20180521172451+00'00'\",\n",
       " '/Creator': 'Microsoft Word',\n",
       " '/Keywords': 'No Restrictions',\n",
       " '/Author': 'Erick Reyes'}"
      ]
     },
     "execution_count": 13,
     "metadata": {},
     "output_type": "execute_result"
    }
   ],
   "source": [
    "read_bio.getDocumentInfo()"
   ]
  },
  {
   "cell_type": "code",
   "execution_count": 32,
   "metadata": {},
   "outputs": [
    {
     "data": {
      "text/plain": [
       "{'/Filter': '/FlateDecode'}"
      ]
     },
     "execution_count": 32,
     "metadata": {},
     "output_type": "execute_result"
    }
   ],
   "source": [
    "pageObj.getContents()"
   ]
  },
  {
   "cell_type": "code",
   "execution_count": 29,
   "metadata": {},
   "outputs": [],
   "source": [
    "read_bio.getPageLayout()"
   ]
  },
  {
   "cell_type": "code",
   "execution_count": 28,
   "metadata": {},
   "outputs": [],
   "source": [
    "read_bio.getPageMode()"
   ]
  },
  {
   "cell_type": "code",
   "execution_count": 33,
   "metadata": {},
   "outputs": [],
   "source": [
    "meta = read_bio.getXmpMetadata()"
   ]
  },
  {
   "cell_type": "code",
   "execution_count": 34,
   "metadata": {},
   "outputs": [],
   "source": [
    "meta.dc_format"
   ]
  },
  {
   "cell_type": "code",
   "execution_count": 35,
   "metadata": {},
   "outputs": [
    {
     "data": {
      "text/plain": [
       "'Microsoft Word'"
      ]
     },
     "execution_count": 35,
     "metadata": {},
     "output_type": "execute_result"
    }
   ],
   "source": [
    "meta.xmp_creatorTool"
   ]
  },
  {
   "cell_type": "code",
   "execution_count": 36,
   "metadata": {},
   "outputs": [
    {
     "data": {
      "text/plain": [
       "'No Restrictions'"
      ]
     },
     "execution_count": 36,
     "metadata": {},
     "output_type": "execute_result"
    }
   ],
   "source": [
    "meta.pdf_keywords"
   ]
  },
  {
   "cell_type": "code",
   "execution_count": 37,
   "metadata": {},
   "outputs": [
    {
     "data": {
      "text/plain": [
       "{}"
      ]
     },
     "execution_count": 37,
     "metadata": {},
     "output_type": "execute_result"
    }
   ],
   "source": [
    "meta.dc_title"
   ]
  },
  {
   "cell_type": "code",
   "execution_count": 38,
   "metadata": {},
   "outputs": [
    {
     "data": {
      "text/plain": [
       "['Erick Reyes']"
      ]
     },
     "execution_count": 38,
     "metadata": {},
     "output_type": "execute_result"
    }
   ],
   "source": [
    "meta.dc_creator"
   ]
  },
  {
   "cell_type": "code",
   "execution_count": 39,
   "metadata": {},
   "outputs": [
    {
     "data": {
      "text/plain": [
       "[]"
      ]
     },
     "execution_count": 39,
     "metadata": {},
     "output_type": "execute_result"
    }
   ],
   "source": [
    "meta.dc_publisher"
   ]
  },
  {
   "cell_type": "code",
   "execution_count": 40,
   "metadata": {},
   "outputs": [
    {
     "data": {
      "text/plain": [
       "str"
      ]
     },
     "execution_count": 40,
     "metadata": {},
     "output_type": "execute_result"
    }
   ],
   "source": [
    "type(pageObj.extractText())"
   ]
  },
  {
   "cell_type": "code",
   "execution_count": 41,
   "metadata": {},
   "outputs": [
    {
     "data": {
      "text/plain": [
       "PyPDF2.pdf.PdfFileReader"
      ]
     },
     "execution_count": 41,
     "metadata": {},
     "output_type": "execute_result"
    }
   ],
   "source": [
    "type(read_bio)"
   ]
  },
  {
   "cell_type": "code",
   "execution_count": 42,
   "metadata": {},
   "outputs": [
    {
     "data": {
      "text/plain": [
       "2"
      ]
     },
     "execution_count": 42,
     "metadata": {},
     "output_type": "execute_result"
    }
   ],
   "source": [
    "read_bio.getNumPages()"
   ]
  },
  {
   "cell_type": "code",
   "execution_count": 43,
   "metadata": {},
   "outputs": [],
   "source": [
    "page_one =  read_bio.getPage(0).extractText()"
   ]
  },
  {
   "cell_type": "code",
   "execution_count": 44,
   "metadata": {},
   "outputs": [
    {
     "data": {
      "text/plain": [
       "' \\n \\n \\n \\n \\n \\nErick Misael Reyes Medina\\n \\n \\nConsultant\\n \\n \\n \\n \\nProfile\\n \\nExperienced Quality Assurance Test Engineer with working\\n \\nexperience\\n \\nin the information \\ntechnology and services industry. Skilled in Test Automation, Scripting\\n \\nand Scrum\\n \\n  \\n \\n \\n \\nSkills\\n \\nAutomation Testing\\n \\nQuality Assurance \\n \\nLeadership\\n \\n \\nD\\nevelopment \\nof automation scripts \\nto automate web UI applications \\nusing Selenium web \\ndriver with java, \\nimplementing POM pattern\\n \\nCreation of comprehensive and \\nstructured test plans and test cases, \\nprioritizing and planning execution of \\nquality testing activities \\n \\nInspiring coworkers and friends to\\n \\ndevelop their skills inside and\\n \\noutside of \\nwork place\\n \\n \\n \\nTechnical\\n \\nSelenium Web Driver\\n \\nRTC\\n \\nShell Scripting\\n \\n \\nJava\\n \\nJira\\n \\nLinux\\n \\n \\nPython\\n \\nAndroid Debug Bridge\\n \\nElectronic Debug\\n \\n \\nBehave Driven development\\n \\nS\\no\\na\\npUI\\n \\nLab \\nInstrumentation\\n \\n \\n \\nEducation\\n \\n\\n \\n\\n \\nIT Development\\n, \\nUniversidad del \\nValle de Mexico\\n \\n \\n \\n \\n \\nExperience\\n \\nIntersys Consulting\\n \\n \\n \\n \\n \\n \\n \\n      \\n \\n11/17\\n \\n\\n \\nCurrent\\n \\nSDET\\n:\\n \\n \\n \\n \\n \\n \\n \\n \\n \\nProject\\n:\\n \\n \\nLender Simulator\\n \\nTechnical Environment\\n: \\n \\nDevelop automated test cases using Python Behave and execute manual test cases consuming web \\nservices with \\nPostMan and SoapUI tool.\\n \\n\\n \\nDevelop Scripts to automate back end flows using behave\\n \\n\\n \\nWrite and execution of manual test cases\\n \\n\\n \\nParticipation on the test planning meetings \\n \\n\\n \\nWeb Services testing\\n \\n \\nHCL \\nTechnologies\\n \\n \\n \\n \\n \\n \\n \\n      \\n \\n11/16\\n \\n\\n \\n11/17\\n \\nSoftware Engineer\\n:\\n \\n \\n \\n \\n \\n \\n \\n \\n \\nProject\\n:\\n \\n \\nUSAA\\n \\nTechnical Environment\\n: \\nWeb application (Desktop and mobile browser), Native mobile application\\n.\\n \\nDevelop automated test cases\\n \\nusing Selenium Web Driver\\n \\nto ensure that the web application was \\nbuilt in compliance with the UI\\n \\ntechnical and functional requirements using agile delivering \\nmethodologies. \\n \\n\\n \\nDevelop Scripts to automate UI using Selenium Web Driver\\n \\n'"
      ]
     },
     "execution_count": 44,
     "metadata": {},
     "output_type": "execute_result"
    }
   ],
   "source": [
    "page_one"
   ]
  }
 ],
 "metadata": {
  "kernelspec": {
   "display_name": "Python 3",
   "language": "python",
   "name": "python3"
  },
  "language_info": {
   "codemirror_mode": {
    "name": "ipython",
    "version": 3
   },
   "file_extension": ".py",
   "mimetype": "text/x-python",
   "name": "python",
   "nbconvert_exporter": "python",
   "pygments_lexer": "ipython3",
   "version": "3.6.5"
  }
 },
 "nbformat": 4,
 "nbformat_minor": 2
}
