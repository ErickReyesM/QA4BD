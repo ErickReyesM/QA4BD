{
 "cells": [
  {
   "cell_type": "code",
   "execution_count": 1,
   "metadata": {},
   "outputs": [],
   "source": [
    "import re\n",
    "log = open('Logs/BH.Web.Automation.log','r')"
   ]
  },
  {
   "cell_type": "code",
   "execution_count": 2,
   "metadata": {},
   "outputs": [],
   "source": [
    "log_list = list([line.strip().lower() for line in log])"
   ]
  },
  {
   "cell_type": "code",
   "execution_count": 3,
   "metadata": {},
   "outputs": [
    {
     "data": {
      "text/plain": [
       "['2018-12-10 13:12:21,379 [info] - [start] ==== test case: 33987 - driver: chrome ====',\n",
       " '2018-12-10 13:12:31,533 [info] - feedback window not displayed: openqa.selenium.nosuchelementexception: no such element: unable to locate element: {\"method\":\"css selector\",\"selector\":\"body > #feedback > img:nth-child(3)\"}',\n",
       " '(session info: chrome=70.0.3538.110)',\n",
       " '(driver info: chromedriver=2.40.565498 (ea082db3280dd6843ebfb08a625e3eb905c4f5ab),platform=windows nt 10.0.17134 x86_64)',\n",
       " 'at openqa.selenium.remote.remotewebdriver.unpackandthrowonerror(response errorresponse)',\n",
       " 'at openqa.selenium.remote.remotewebdriver.execute(string drivercommandtoexecute, dictionary`2 parameters)',\n",
       " 'at openqa.selenium.remote.remotewebdriver.findelement(string mechanism, string value)',\n",
       " 'at openqa.selenium.remote.remotewebdriver.findelementbycssselector(string cssselector)',\n",
       " 'at openqa.selenium.by.<>c__displayclass23_0.<cssselector>b__0(isearchcontext context)',\n",
       " 'at openqa.selenium.by.findelement(isearchcontext context)',\n",
       " 'at openqa.selenium.remote.remotewebdriver.findelement(by by)',\n",
       " 'at bh.atf.sitecore.web.common.webextensions.helper.clickingwithjavascript(iwebdriver _driver, by locator) in c:\\\\users\\\\erickreyes\\\\desktop\\\\bannerhealthautomation\\\\temp_intersys_bh\\\\bh.atf.sitecore.web.common\\\\webextensions\\\\helper.cs:line 68',\n",
       " 'at bh.atf.sitecore.web.bannerhealth.pages.pagebase.closefeedbackwindow() in c:\\\\users\\\\erickreyes\\\\desktop\\\\bannerhealthautomation\\\\temp_intersys_bh\\\\bh.atf.sitecore.web.bannerhealth\\\\pages\\\\base\\\\pagebase.cs:line 405',\n",
       " '2018-12-10 13:12:34,858 [info] - [end]   =============== [passed] ===============',\n",
       " '2018-12-10 13:12:39,681 [info] - [start] ==== test case: 33993 - driver: chrome ====',\n",
       " '2018-12-10 13:12:51,836 [error] - error waiting for url contains: bannerhealth.com/es-es/patients/billing/online-bill-pay | actual: https://hccd-qa.bannerhealth.com/patients',\n",
       " '2018-12-10 13:12:52,468 [error] -   test case: 33993 - driver: chrome',\n",
       " 'error loading online-bill-pay page.',\n",
       " 'expected: true',\n",
       " 'but was:  false']"
      ]
     },
     "execution_count": 3,
     "metadata": {},
     "output_type": "execute_result"
    }
   ],
   "source": [
    "log_list[:20]"
   ]
  },
  {
   "cell_type": "code",
   "execution_count": 4,
   "metadata": {},
   "outputs": [],
   "source": [
    "test_case_id = re.search(': (\\w+)', log_list[0]).group(1)"
   ]
  },
  {
   "cell_type": "code",
   "execution_count": 5,
   "metadata": {},
   "outputs": [
    {
     "data": {
      "text/plain": [
       "'33987'"
      ]
     },
     "execution_count": 5,
     "metadata": {},
     "output_type": "execute_result"
    }
   ],
   "source": [
    "test_case_id"
   ]
  },
  {
   "cell_type": "code",
   "execution_count": 6,
   "metadata": {},
   "outputs": [
    {
     "data": {
      "text/plain": [
       "86"
      ]
     },
     "execution_count": 6,
     "metadata": {},
     "output_type": "execute_result"
    }
   ],
   "source": [
    "cases = [line for line in log_list if '[info] - [start]' in line]\n",
    "len(cases)"
   ]
  },
  {
   "cell_type": "code",
   "execution_count": 7,
   "metadata": {},
   "outputs": [
    {
     "data": {
      "text/plain": [
       "54"
      ]
     },
     "execution_count": 7,
     "metadata": {},
     "output_type": "execute_result"
    }
   ],
   "source": [
    "cases_failed = [line for line in log_list if '[info] - [end]' and  '[failed]' in line]\n",
    "len(cases_failed)"
   ]
  },
  {
   "cell_type": "code",
   "execution_count": 8,
   "metadata": {},
   "outputs": [
    {
     "name": "stdout",
     "output_type": "stream",
     "text": [
      "TCs with no id: 0\n"
     ]
    }
   ],
   "source": [
    "ids = []\n",
    "count = 0\n",
    "for i in range(len(cases)):\n",
    "    try:\n",
    "        m = re.search(': (\\w+)', cases[i])\n",
    "        ids.append(m.group(1))\n",
    "    except AttributeError:\n",
    "        count += 1\n",
    "print(\"TCs with no id: \" + str(count))"
   ]
  },
  {
   "cell_type": "code",
   "execution_count": 18,
   "metadata": {},
   "outputs": [
    {
     "data": {
      "text/plain": [
       "['33987',\n",
       " '33993',\n",
       " '34042',\n",
       " '34073',\n",
       " '34070',\n",
       " '34076',\n",
       " '34077',\n",
       " '34072',\n",
       " '34071',\n",
       " '34064',\n",
       " '34078',\n",
       " '34053',\n",
       " '34049',\n",
       " '34047',\n",
       " '34050',\n",
       " '34052',\n",
       " '34051',\n",
       " '34371',\n",
       " '34063',\n",
       " '34062',\n",
       " '34057',\n",
       " 'CHROME',\n",
       " '33883',\n",
       " '33751',\n",
       " '33750',\n",
       " '33882',\n",
       " '33737',\n",
       " '33744',\n",
       " '33749',\n",
       " '33737',\n",
       " '33882',\n",
       " '33746',\n",
       " '33737',\n",
       " '33744',\n",
       " '33736',\n",
       " 'CHROME',\n",
       " 'CHROME',\n",
       " 'CHROME',\n",
       " '34028',\n",
       " '33881',\n",
       " '33881',\n",
       " 'CHROME',\n",
       " '34038',\n",
       " 'CHROME',\n",
       " 'CHROME',\n",
       " '34040',\n",
       " '33885',\n",
       " '33885',\n",
       " '33890',\n",
       " '33880',\n",
       " '33880',\n",
       " '33889',\n",
       " '34011',\n",
       " '34019',\n",
       " '34023',\n",
       " '34012',\n",
       " '34016',\n",
       " '34017',\n",
       " '34043',\n",
       " '33974',\n",
       " 'BH_NID_C_SUBPAGES_STAYINGWELLLINK_NAVIGATION',\n",
       " 'BH_NID_C_SECONDARYNAVIGATION_STAYINGWELLLINK_PRESENT',\n",
       " '33913',\n",
       " '33918',\n",
       " '33916',\n",
       " '33912',\n",
       " '33917',\n",
       " '33915',\n",
       " '34041',\n",
       " '33980',\n",
       " '33976',\n",
       " '34111',\n",
       " '33728',\n",
       " '33996',\n",
       " '34113',\n",
       " '33730',\n",
       " 'LOCRESULTSELEMENTS',\n",
       " '34007',\n",
       " '34010',\n",
       " '33729',\n",
       " '34008',\n",
       " '33998',\n",
       " '35416',\n",
       " '34003',\n",
       " '33886',\n",
       " '33886']"
      ]
     },
     "execution_count": 18,
     "metadata": {},
     "output_type": "execute_result"
    }
   ],
   "source": [
    "ids = [iD.upper() for iD in ids]\n",
    "ids"
   ]
  },
  {
   "cell_type": "code",
   "execution_count": 10,
   "metadata": {},
   "outputs": [],
   "source": [
    "url_failed_test = [line for line in log_list if '[ERROR] - Error waiting for Url'.lower() in line]"
   ]
  },
  {
   "cell_type": "code",
   "execution_count": 11,
   "metadata": {},
   "outputs": [
    {
     "data": {
      "text/plain": [
       "24"
      ]
     },
     "execution_count": 11,
     "metadata": {},
     "output_type": "execute_result"
    }
   ],
   "source": [
    "len(url_failed_test)"
   ]
  },
  {
   "cell_type": "code",
   "execution_count": 12,
   "metadata": {},
   "outputs": [],
   "source": [
    "null_reference = [line for line in log_list if '[ERROR] - Object reference not set to an instance of an object.'.lower() in line]"
   ]
  },
  {
   "cell_type": "code",
   "execution_count": 13,
   "metadata": {},
   "outputs": [
    {
     "data": {
      "text/plain": [
       "10"
      ]
     },
     "execution_count": 13,
     "metadata": {},
     "output_type": "execute_result"
    }
   ],
   "source": [
    "len(null_reference)"
   ]
  },
  {
   "cell_type": "code",
   "execution_count": 14,
   "metadata": {},
   "outputs": [],
   "source": [
    "no_such_element = [line for line in log_list if '[ERROR] - no such element'.lower() in line]"
   ]
  },
  {
   "cell_type": "code",
   "execution_count": 15,
   "metadata": {},
   "outputs": [
    {
     "data": {
      "text/plain": [
       "11"
      ]
     },
     "execution_count": 15,
     "metadata": {},
     "output_type": "execute_result"
    }
   ],
   "source": [
    "len(no_such_element)"
   ]
  },
  {
   "cell_type": "code",
   "execution_count": 16,
   "metadata": {},
   "outputs": [
    {
     "data": {
      "text/plain": [
       "['2018-12-10 13:14:06,029 [error] - no such element: unable to locate element: {\"method\":\"css selector\",\"selector\":\"#site > div.site-content > section:nth-child(6) > div > div > div:nth-child(1) > p:nth-child(5) > a\"}',\n",
       " '2018-12-10 13:15:57,313 [error] - no such element: unable to locate element: {\"method\":\"css selector\",\"selector\":\"#site > div.site-content > section.home-section.penta-box.category-posts.full-width-section.bg-ff6a13.text-ffffff.links-ffffff > div > div.grids.entries > div.grid-3.column-secondary.column-left > article:nth-child(1)\"}',\n",
       " '2018-12-10 13:31:32,678 [error] - no such element: unable to locate element: {\"method\":\"xpath\",\"selector\":\"//button[contains(text(),\\'clear\\')]\"}',\n",
       " '2018-12-10 13:45:31,584 [error] - no such element: unable to locate element: {\"method\":\"css selector\",\"selector\":\"section.urgent-care-search\"}',\n",
       " '2018-12-10 13:45:59,837 [error] - no such element: unable to locate element: {\"method\":\"css selector\",\"selector\":\"div:nth-child(4) > section\"}',\n",
       " '2018-12-10 13:46:10,868 [error] - no such element: unable to locate element: {\"method\":\"css selector\",\"selector\":\"video.hero-section-player.js-animation-player.video-max\"}',\n",
       " '2018-12-10 13:46:32,928 [error] - no such element: unable to locate element: {\"method\":\"css selector\",\"selector\":\"section.page-section.events-section.page-section-grey.js-animation-trigger\"}',\n",
       " '2018-12-10 13:46:44,525 [error] - no such element: unable to locate element: {\"method\":\"css selector\",\"selector\":\"section.page-section.has-columns.columns-reverse.js-animation-trigger.is-animated.account-section > div > div.content-container > h2:nth-child(3)\"}',\n",
       " '2018-12-10 13:48:14,564 [error] - no such element: unable to locate element: {\"method\":\"css selector\",\"selector\":\"a[title=\\'careers\\']\"}',\n",
       " '2018-12-10 13:48:40,698 [error] - no such element: unable to locate element: {\"method\":\"css selector\",\"selector\":\"h4 > a\"}',\n",
       " '2018-12-10 13:50:09,776 [error] - no such element: unable to locate element: {\"method\":\"css selector\",\"selector\":\"ul[id^=\\'sboptions_\\'] > li:nth-child(10) > a\"}']"
      ]
     },
     "execution_count": 16,
     "metadata": {},
     "output_type": "execute_result"
    }
   ],
   "source": [
    "no_such_element"
   ]
  },
  {
   "cell_type": "code",
   "execution_count": null,
   "metadata": {},
   "outputs": [],
   "source": []
  }
 ],
 "metadata": {
  "kernelspec": {
   "display_name": "Python 3",
   "language": "python",
   "name": "python3"
  },
  "language_info": {
   "codemirror_mode": {
    "name": "ipython",
    "version": 3
   },
   "file_extension": ".py",
   "mimetype": "text/x-python",
   "name": "python",
   "nbconvert_exporter": "python",
   "pygments_lexer": "ipython3",
   "version": "3.6.5"
  }
 },
 "nbformat": 4,
 "nbformat_minor": 2
}
