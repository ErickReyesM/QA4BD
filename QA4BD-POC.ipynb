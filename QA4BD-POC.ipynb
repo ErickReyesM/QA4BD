{
 "cells": [
  {
   "cell_type": "code",
   "execution_count": 12,
   "metadata": {},
   "outputs": [],
   "source": [
    "import pandas as pd\n",
    "import json"
   ]
  },
  {
   "cell_type": "code",
   "execution_count": 2,
   "metadata": {},
   "outputs": [],
   "source": [
    "data_kimble = pd.read_csv(\"mockData.csv\")"
   ]
  },
  {
   "cell_type": "code",
   "execution_count": 3,
   "metadata": {},
   "outputs": [
    {
     "data": {
      "text/html": [
       "<div>\n",
       "<style scoped>\n",
       "    .dataframe tbody tr th:only-of-type {\n",
       "        vertical-align: middle;\n",
       "    }\n",
       "\n",
       "    .dataframe tbody tr th {\n",
       "        vertical-align: top;\n",
       "    }\n",
       "\n",
       "    .dataframe thead th {\n",
       "        text-align: right;\n",
       "    }\n",
       "</style>\n",
       "<table border=\"1\" class=\"dataframe\">\n",
       "  <thead>\n",
       "    <tr style=\"text-align: right;\">\n",
       "      <th></th>\n",
       "      <th>name</th>\n",
       "      <th>last_name</th>\n",
       "      <th>bench</th>\n",
       "      <th>location</th>\n",
       "      <th>title</th>\n",
       "      <th>yoe</th>\n",
       "      <th>project</th>\n",
       "      <th>skills</th>\n",
       "    </tr>\n",
       "  </thead>\n",
       "  <tbody>\n",
       "    <tr>\n",
       "      <th>0</th>\n",
       "      <td>Erick Misael</td>\n",
       "      <td>Reyes Medina</td>\n",
       "      <td>NaN</td>\n",
       "      <td>MDC</td>\n",
       "      <td>SDET</td>\n",
       "      <td>4</td>\n",
       "      <td>BH</td>\n",
       "      <td>NaN</td>\n",
       "    </tr>\n",
       "    <tr>\n",
       "      <th>1</th>\n",
       "      <td>Ricardo</td>\n",
       "      <td>Sandoval</td>\n",
       "      <td>False</td>\n",
       "      <td>MDC</td>\n",
       "      <td>SDET</td>\n",
       "      <td>3</td>\n",
       "      <td>BH</td>\n",
       "      <td>NaN</td>\n",
       "    </tr>\n",
       "    <tr>\n",
       "      <th>2</th>\n",
       "      <td>Miguel</td>\n",
       "      <td>Martinez</td>\n",
       "      <td>False</td>\n",
       "      <td>MDC</td>\n",
       "      <td>Sr SDET</td>\n",
       "      <td>6</td>\n",
       "      <td>BCBS</td>\n",
       "      <td>java$selenium$python$cucumber$jira</td>\n",
       "    </tr>\n",
       "  </tbody>\n",
       "</table>\n",
       "</div>"
      ],
      "text/plain": [
       "           name     last_name  bench location    title  yoe project  \\\n",
       "0  Erick Misael  Reyes Medina    NaN      MDC     SDET    4      BH   \n",
       "1       Ricardo      Sandoval  False      MDC     SDET    3      BH   \n",
       "2        Miguel      Martinez  False      MDC  Sr SDET    6    BCBS   \n",
       "\n",
       "                               skills  \n",
       "0                                 NaN  \n",
       "1                                 NaN  \n",
       "2  java$selenium$python$cucumber$jira  "
      ]
     },
     "execution_count": 3,
     "metadata": {},
     "output_type": "execute_result"
    }
   ],
   "source": [
    "data_kimble.head()"
   ]
  },
  {
   "cell_type": "code",
   "execution_count": 4,
   "metadata": {},
   "outputs": [],
   "source": [
    "data_kimble = data_kimble.set_index('name')"
   ]
  },
  {
   "cell_type": "code",
   "execution_count": 5,
   "metadata": {},
   "outputs": [
    {
     "data": {
      "text/html": [
       "<div>\n",
       "<style scoped>\n",
       "    .dataframe tbody tr th:only-of-type {\n",
       "        vertical-align: middle;\n",
       "    }\n",
       "\n",
       "    .dataframe tbody tr th {\n",
       "        vertical-align: top;\n",
       "    }\n",
       "\n",
       "    .dataframe thead th {\n",
       "        text-align: right;\n",
       "    }\n",
       "</style>\n",
       "<table border=\"1\" class=\"dataframe\">\n",
       "  <thead>\n",
       "    <tr style=\"text-align: right;\">\n",
       "      <th></th>\n",
       "      <th>last_name</th>\n",
       "      <th>bench</th>\n",
       "      <th>location</th>\n",
       "      <th>title</th>\n",
       "      <th>yoe</th>\n",
       "      <th>project</th>\n",
       "      <th>skills</th>\n",
       "    </tr>\n",
       "    <tr>\n",
       "      <th>name</th>\n",
       "      <th></th>\n",
       "      <th></th>\n",
       "      <th></th>\n",
       "      <th></th>\n",
       "      <th></th>\n",
       "      <th></th>\n",
       "      <th></th>\n",
       "    </tr>\n",
       "  </thead>\n",
       "  <tbody>\n",
       "    <tr>\n",
       "      <th>Erick Misael</th>\n",
       "      <td>Reyes Medina</td>\n",
       "      <td>NaN</td>\n",
       "      <td>MDC</td>\n",
       "      <td>SDET</td>\n",
       "      <td>4</td>\n",
       "      <td>BH</td>\n",
       "      <td>NaN</td>\n",
       "    </tr>\n",
       "    <tr>\n",
       "      <th>Ricardo</th>\n",
       "      <td>Sandoval</td>\n",
       "      <td>False</td>\n",
       "      <td>MDC</td>\n",
       "      <td>SDET</td>\n",
       "      <td>3</td>\n",
       "      <td>BH</td>\n",
       "      <td>NaN</td>\n",
       "    </tr>\n",
       "    <tr>\n",
       "      <th>Miguel</th>\n",
       "      <td>Martinez</td>\n",
       "      <td>False</td>\n",
       "      <td>MDC</td>\n",
       "      <td>Sr SDET</td>\n",
       "      <td>6</td>\n",
       "      <td>BCBS</td>\n",
       "      <td>java$selenium$python$cucumber$jira</td>\n",
       "    </tr>\n",
       "  </tbody>\n",
       "</table>\n",
       "</div>"
      ],
      "text/plain": [
       "                 last_name  bench location    title  yoe project  \\\n",
       "name                                                               \n",
       "Erick Misael  Reyes Medina    NaN      MDC     SDET    4      BH   \n",
       "Ricardo           Sandoval  False      MDC     SDET    3      BH   \n",
       "Miguel            Martinez  False      MDC  Sr SDET    6    BCBS   \n",
       "\n",
       "                                          skills  \n",
       "name                                              \n",
       "Erick Misael                                 NaN  \n",
       "Ricardo                                      NaN  \n",
       "Miguel        java$selenium$python$cucumber$jira  "
      ]
     },
     "execution_count": 5,
     "metadata": {},
     "output_type": "execute_result"
    }
   ],
   "source": [
    "data_kimble"
   ]
  },
  {
   "cell_type": "code",
   "execution_count": 10,
   "metadata": {},
   "outputs": [],
   "source": [
    "profile = data_kimble.loc[\"Miguel\"]"
   ]
  },
  {
   "cell_type": "code",
   "execution_count": 11,
   "metadata": {},
   "outputs": [
    {
     "data": {
      "text/plain": [
       "last_name                              Martinez\n",
       "bench                                     False\n",
       "location                                    MDC\n",
       "title                                   Sr SDET\n",
       "yoe                                           6\n",
       "project                                    BCBS\n",
       "skills       java$selenium$python$cucumber$jira\n",
       "Name: Miguel, dtype: object"
      ]
     },
     "execution_count": 11,
     "metadata": {},
     "output_type": "execute_result"
    }
   ],
   "source": [
    "profile"
   ]
  },
  {
   "cell_type": "code",
   "execution_count": 22,
   "metadata": {},
   "outputs": [],
   "source": [
    "skills = list(profile[\"skills\"].split(\"$\"))"
   ]
  },
  {
   "cell_type": "code",
   "execution_count": 23,
   "metadata": {},
   "outputs": [
    {
     "data": {
      "text/plain": [
       "['java', 'selenium', 'python', 'cucumber', 'jira']"
      ]
     },
     "execution_count": 23,
     "metadata": {},
     "output_type": "execute_result"
    }
   ],
   "source": [
    "skills"
   ]
  },
  {
   "cell_type": "code",
   "execution_count": 15,
   "metadata": {},
   "outputs": [],
   "source": [
    "profile_from_json = json.load(open(\"profile.json\", \"r\"))"
   ]
  },
  {
   "cell_type": "code",
   "execution_count": 16,
   "metadata": {},
   "outputs": [
    {
     "data": {
      "text/plain": [
       "{'name': 'Miguel',\n",
       " 'lastName': 'Martinez',\n",
       " 'bench': False,\n",
       " 'user': 'mmartinez',\n",
       " 'location': 'MDC',\n",
       " 'age': None,\n",
       " 'skills': ['Java', 'Serenity', 'PostgreSQL', 'TestNG', 'Maven', 'MongoDB'],\n",
       " 'profile': {'summary': 'Skilled software engineer working as an Automation Engineer on frameworks for Web and Desktop applications. Great performer with an attitude of facing new challenges using different technologies.',\n",
       "  'yoe': 6,\n",
       "  'title': 'Senior SDET'}}"
      ]
     },
     "execution_count": 16,
     "metadata": {},
     "output_type": "execute_result"
    }
   ],
   "source": [
    "profile_from_json"
   ]
  },
  {
   "cell_type": "code",
   "execution_count": 20,
   "metadata": {},
   "outputs": [
    {
     "data": {
      "text/plain": [
       "['Java', 'Serenity', 'PostgreSQL', 'TestNG', 'Maven', 'MongoDB']"
      ]
     },
     "execution_count": 20,
     "metadata": {},
     "output_type": "execute_result"
    }
   ],
   "source": [
    "profile_from_json[\"skills\"]"
   ]
  },
  {
   "cell_type": "code",
   "execution_count": null,
   "metadata": {},
   "outputs": [],
   "source": []
  }
 ],
 "metadata": {
  "kernelspec": {
   "display_name": "Python 3",
   "language": "python",
   "name": "python3"
  },
  "language_info": {
   "codemirror_mode": {
    "name": "ipython",
    "version": 3
   },
   "file_extension": ".py",
   "mimetype": "text/x-python",
   "name": "python",
   "nbconvert_exporter": "python",
   "pygments_lexer": "ipython3",
   "version": "3.6.5"
  }
 },
 "nbformat": 4,
 "nbformat_minor": 2
}
